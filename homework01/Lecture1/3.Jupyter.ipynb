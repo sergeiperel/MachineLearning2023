{
 "cells": [
  {
   "cell_type": "markdown",
   "metadata": {},
   "source": [
    "# Jupyter и Markdown\n",
    "\n",
    "Документ jupyter notebook имеет расширение .ipynb, состоит из множества ячеек. В ячейках можно писать программный код, делать размеченные и неразмеченные заметки. Этим функциям соответствует три типа ячеек:\n",
    "    \n",
    "    1. code\n",
    "    2. markdown\n",
    "    3. raw"
   ]
  },
  {
   "cell_type": "markdown",
   "metadata": {},
   "source": [
    "Для работы с содержимым ячейки используется *режим редактирования* (*Edit mode*, включается нажатием клавиши **Enter** после выбора ячейки), а для навигации между ячейками искользуется *командный режим* (*Command mode*, включается нажатием клавиши **Esc**). \n",
    "\n",
    "Тип ячейки можно задать в командном режиме либо с помощью горячих клавиш (**y** to code, **m** to markdown, **r** to edit raw text), либо в меню *Cell -> Cell type*. "
   ]
  },
  {
   "cell_type": "code",
   "execution_count": 1,
   "metadata": {},
   "outputs": [],
   "source": [
    "# Ячейка с кодом\n",
    "a = 1"
   ]
  },
  {
   "cell_type": "markdown",
   "metadata": {},
   "source": [
    "## Ячейка с размеченным текстом"
   ]
  },
  {
   "cell_type": "raw",
   "metadata": {},
   "source": [
    "Ячейка с неразмеченным текстом"
   ]
  },
  {
   "cell_type": "markdown",
   "metadata": {},
   "source": [
    "После заполнения ячейки нужно нажать *Shift + Enter*, эта команда обработает содержимое ячейки: проинтерпретирует код или сверстает размеченный текст.\n",
    "\n",
    "Ячейки с программным кодом разделяют область видимости:"
   ]
  },
  {
   "cell_type": "code",
   "execution_count": 2,
   "metadata": {},
   "outputs": [],
   "source": [
    "a = 1"
   ]
  },
  {
   "cell_type": "code",
   "execution_count": 3,
   "metadata": {},
   "outputs": [
    {
     "name": "stdout",
     "output_type": "stream",
     "text": [
      "1\n"
     ]
    }
   ],
   "source": [
    "print(a)"
   ]
  },
  {
   "cell_type": "markdown",
   "metadata": {},
   "source": [
    "# Markdown"
   ]
  },
  {
   "cell_type": "markdown",
   "metadata": {},
   "source": [
    "${Markdown}$ - это легковесный язык разметки текста для веба, созданный с целью написания максимально читаемого и удобного для правки текста, но пригодного для преобразования в языки для продвинутых публикаций (HTML, Rich Text и др.). Авторы - John Gruber и Aaron Swartz. Официальная страница проекта и более подробная документация на сайте Daring Fireball. https://daringfireball.net/projects/markdown/  \n",
    "[Здесь](https://athena.brynmawr.edu/jupyter/hub/dblank/public/Jupyter%20Notebook%20Users%20Manual.ipynb) находится <s>не</s>большая заметка о используемом языке разметки Markdown\n"
   ]
  },
  {
   "cell_type": "markdown",
   "metadata": {},
   "source": [
    "## 1. Блочные Элементы\n",
    "### Параграфы\n",
    "<пустая строка>  \n",
    "Текст параграфа. Может быть  \n",
    "разбит на несколько строк.  \n",
    "<пустая строка>  "
   ]
  },
  {
   "cell_type": "markdown",
   "metadata": {},
   "source": [
    " \n",
    "Текст параграфа. Может быть  \n",
    "разбит на несколько строк.  \n"
   ]
  },
  {
   "cell_type": "markdown",
   "metadata": {},
   "source": [
    "### Переводы строк\n",
    "Что бы вставить перевод строки без начала нового параграфа, в конец нужно добавить два или больше пробелов.  \n",
    "Текст параграфа.<пробел><пробел>  \n",
    "Этот текст будет с новой строки.  "
   ]
  },
  {
   "cell_type": "markdown",
   "metadata": {},
   "source": [
    "Текст параграфа.  \n",
    "Этот текст будет с новой строки."
   ]
  },
  {
   "cell_type": "markdown",
   "metadata": {},
   "source": [
    "## 2. Заголовки\n",
    "    Заголовок первого уровня H1\n",
    "    ===========================\n",
    "\n",
    "    Заголовок второго уровня H2\n",
    "    ---------------------------\n",
    "или так\n",
    "    # Заголовок первого уровня H1\n",
    "    ## Заголовок второго уровня H2\n",
    "    ###### Заголовок шестого уровня H6\n",
    "или так\n",
    "    # Заголовок первого уровня H1 #\n",
    "    ## Заголовок второго уровня H2 ##\n",
    "    ###### Заголовок шестого уровня H6 ######\n"
   ]
  },
  {
   "cell_type": "markdown",
   "metadata": {},
   "source": [
    "Заголовок первого уровня H1\n",
    "===========================\n",
    "\n",
    "Заголовок второго уровня H2\n",
    "---------------------------\n",
    "или так\n",
    "# Заголовок первого уровня H1\n",
    "## Заголовок второго уровня H2\n",
    "###### Заголовок шестого уровня H6\n",
    "или так\n",
    "# Заголовок первого уровня H1 #\n",
    "## Заголовок второго уровня H2 ##\n",
    "###### Заголовок шестого уровня H6 ######"
   ]
  },
  {
   "cell_type": "markdown",
   "metadata": {},
   "source": [
    "## 3. Цитаты\n",
    "    > Это\n",
    "    > многострочная\n",
    "    > цитата\n",
    "или так\n",
    "    > Это\n",
    "    многострочная\n",
    "    цитата"
   ]
  },
  {
   "cell_type": "markdown",
   "metadata": {},
   "source": [
    "## Цитаты\n",
    "> Это\n",
    "> многострочная\n",
    "> цитата\n",
    "\n",
    "или так\n",
    "\n",
    "> Это\n",
    "многострочная\n",
    "цитата"
   ]
  },
  {
   "cell_type": "markdown",
   "metadata": {},
   "source": [
    "## 4. Списки\n",
    "### Ненумерованные:\n",
    "    * красный\n",
    "    * зеленый\n",
    "    * синий\n",
    "или так\n",
    "    - красный\n",
    "    - зеленый\n",
    "    - синий\n",
    "или даже так\n",
    "    + красный\n",
    "    + зеленый\n",
    "    + синий\n",
    "\n",
    "* красный\n",
    "* зеленый\n",
    "* синий\n",
    "\n",
    "### Нумерованные:\n",
    "    1. Первый\n",
    "    2. Второй\n",
    "    3. Третий\n",
    "\n",
    "1. Первый\n",
    "2. Второй\n",
    "3. Третий\n",
    "\n",
    "### Код\n",
    "Отступ в четыре пробела или один таб генерирует блок кода:  \n",
    "<пробел><пробел><пробел><пробел>print 'Hello, World!'\n",
    "    print 'Hello, World!'\n",
    "\n",
    "### Горизонтальная линия\n",
    "    * * *\n",
    "* * *\n",
    "\n",
    "или так:\n",
    "    ***\n",
    "***\n",
    "\n",
    "или так:\n",
    "\n",
    "    ------\n",
    "------"
   ]
  },
  {
   "cell_type": "markdown",
   "metadata": {},
   "source": [
    "далее идёт какой-то код: `import numpy`"
   ]
  },
  {
   "cell_type": "markdown",
   "metadata": {},
   "source": [
    "## 5. Строчные элементы\n",
    "### Ссылки\n",
    "\n",
    "#### Инлайн ссылки\n",
    "    Это простая [ссылка](http://rukeba.com/) в тексте.\n",
    "Это простая [ссылка](http://rukeba.com/) в тексте.\n",
    "\n",
    "    Это [ссылка](http://rukeba.com/ \"Титул\") с аттрибутом title.\n",
    "Это [ссылка](http://rukeba.com/ \"Титул\") с аттрибутом title.\n",
    "\n",
    "#### Ссылки в справочном стиле\n",
    "    Это [ссылка][1] в справочном стиле.\n",
    "    ...\n",
    "    ...\n",
    "    [1]: http://rukeba.com/ \"Необязательный титул\"\n",
    "    \n",
    "Это [ссылка][1] в справочном стиле.\n",
    "...\n",
    "...\n",
    "[1]: http://rukeba.com/ \"Необязательный титул\"\n",
    "\n",
    "Что бы урл в тексте стал ссылкой его нужно обрамить в < и >\n",
    "\n",
    "    По урлу <http://rukeba.com/> находится мой сайт.\n",
    "    \n",
    "По урлу <http://rukeba.com/> находится мой сайт.\n",
    "\n",
    "### Выделение\n",
    "Одинарные звездочки генерируют тег\n",
    "\n",
    "    это *выделенный* текст\n",
    "\n",
    "это *выделенный* текст\n",
    "\n",
    "Двойные звёздочки генерируют тег\n",
    "\n",
    "    это **очень выделенный** текст\n",
    "\n",
    "это **очень выделенный** текст\n",
    "\n",
    "+ *курсив* = \\*italics\\*\n",
    "+ **жирный** = \\*\\*bold\\*\\*\n",
    "+ ***жирный курсив*** = \\*\\*\\*bold italics\\*\\*\\*\n",
    "+ ~~зачеркнутый~~ = \\~\\~strikeout\\~\\~\n",
    "+ __подчеркнутый__ = \\_\\_underline\\_\\_\n",
    "+ __*подчеркнутый курсив*__ = \\_\\_\\*underline italics\\*\\_\\_\n",
    "+ __**подчеркнутый жирный**__ = \\_\\_\\*\\*underline bold\\*\\*\\_\\_\n",
    "+ __***подчеркнутый жирный курсив***__ = \\_\\_\\*\\*\\*underline bold italics\\*\\*\\*\\_\\_\n",
    "\n"
   ]
  },
  {
   "cell_type": "markdown",
   "metadata": {},
   "source": [
    "### Код в строке\n",
    "    Код внутри строки (inline) `print(\"Hello world!\")`\n",
    "Код внутри строки (inline) `print(\"Hello world!\")` для вывода.\n",
    "\n",
    "### Изображения\n",
    "\n",
    "    ![alt-текст](http://example.com/image.jpg \"Необязательный титул\")\n",
    "    \n",
    "![alt-текст](images/jupyter_logotype.png \"Необязательный титул\")\n",
    "\n",
    "или в справочном стиле:\n",
    "\n",
    "    ![alt-текст][2]\n",
    "    ...  \n",
    "    ...  \n",
    "    [2]: http://example.com/image.jpg \"Необязательный титул\"\n",
    "\n",
    "![alt-текст][2]\n",
    "[2]: http://example.com/image.jpg \"Необязательный титул\"\n",
    "\n",
    "## 6. Дополнительно\n",
    "### Экранирование\n",
    "Для экранирования служебных символов маркдауна нужно использовать обратный слеш \\"
   ]
  },
  {
   "cell_type": "markdown",
   "metadata": {},
   "source": [
    "# Создание красивых формул"
   ]
  },
  {
   "cell_type": "markdown",
   "metadata": {},
   "source": [
    "The Markdown parser included in the Jupyter Notebook is MathJax-aware.  This means that you can freely mix in mathematical expressions using the [MathJax subset of Tex and LaTeX](https://docs.mathjax.org/en/latest/input/tex/).  [Some examples from the MathJax demos site](https://mathjax.github.io/MathJax-demos-web/) are reproduced below, as well as the Markdown+TeX source."
   ]
  },
  {
   "cell_type": "markdown",
   "metadata": {},
   "source": [
    "$$\\pi=3.14$$"
   ]
  },
  {
   "cell_type": "markdown",
   "metadata": {},
   "source": [
    "\n",
    "\n",
    "## The Lorenz Equations\n",
    "### Source\n",
    "```\n",
    "\\begin{align}\n",
    "\\dot{x} & = \\sigma(y-x) \\\\\n",
    "\\dot{y} & = \\rho x - y - xz \\\\\n",
    "\\dot{z} & = -\\beta z + xy\n",
    "\\end{align}\n",
    "```\n",
    "### Display\n",
    "\n",
    "$\\begin{align}\n",
    "\\dot{x} & = \\sigma(y-x) \\\\\n",
    "\\dot{y} & = \\rho x - y - xz \\\\\n",
    "\\dot{z} & = -\\beta z + xy\n",
    "\\end{align}$"
   ]
  },
  {
   "cell_type": "markdown",
   "metadata": {},
   "source": [
    "## The Cauchy-Schwarz Inequality\n",
    "### Source\n",
    "```\n",
    "\\begin{equation*}\n",
    "\\left( \\sum_{k=1}^n a_k b_k \\right)^2 \\leq \\left( \\sum_{k=1}^n a_k^2 \\right) \\left( \\sum_{k=1}^n b_k^2 \\right)\n",
    "\\end{equation*}\n",
    "```\n",
    "### Display\n",
    "\n",
    "$\\begin{equation*}\n",
    "\\left( \\sum_{k=1}^n a_k b_k \\right)^2 \\leq \\left( \\sum_{k=1}^n a_k^2 \\right) \\left( \\sum_{k=1}^n b_k^2 \\right)\n",
    "\\end{equation*}$"
   ]
  },
  {
   "cell_type": "markdown",
   "metadata": {},
   "source": [
    "## A Cross Product Formula\n",
    "### Source\n",
    "```\n",
    "\\begin{equation*}\n",
    "\\mathbf{V}_1 \\times \\mathbf{V}_2 =  \\begin{vmatrix}\n",
    "\\mathbf{i} & \\mathbf{j} & \\mathbf{k} \\\\\n",
    "\\frac{\\partial X}{\\partial u} &  \\frac{\\partial Y}{\\partial u} & 0 \\\\\n",
    "\\frac{\\partial X}{\\partial v} &  \\frac{\\partial Y}{\\partial v} & 0\n",
    "\\end{vmatrix}  \n",
    "\\end{equation*}\n",
    "```\n",
    "### Display\n",
    "\n",
    "$\\begin{equation*}\n",
    "\\mathbf{V}_1 \\times \\mathbf{V}_2 =  \\begin{vmatrix}\n",
    "\\mathbf{i} & \\mathbf{j} & \\mathbf{k} \\\\\n",
    "\\frac{\\partial X}{\\partial u} &  \\frac{\\partial Y}{\\partial u} & 0 \\\\\n",
    "\\frac{\\partial X}{\\partial v} &  \\frac{\\partial Y}{\\partial v} & 0\n",
    "\\end{vmatrix}  \n",
    "\\end{equation*}$"
   ]
  },
  {
   "cell_type": "markdown",
   "metadata": {},
   "source": [
    "## The probability of getting \\(k\\) heads when flipping \\(n\\) coins is\n",
    "### Source\n",
    "```\n",
    "\\begin{equation*}\n",
    "P(E)   = {n \\choose k} p^k (1-p)^{ n-k} \n",
    "\\end{equation*}\n",
    "```\n",
    "### Display\n",
    "\n",
    "$\\begin{equation*}\n",
    "P(E)   = {n \\choose k} p^k (1-p)^{ n-k} \n",
    "\\end{equation*}$"
   ]
  },
  {
   "cell_type": "markdown",
   "metadata": {},
   "source": [
    "## An Identity of Ramanujan\n",
    "### Source\n",
    "```\n",
    "\\begin{equation*}\n",
    "\\frac{1}{\\Bigl(\\sqrt{\\phi \\sqrt{5}}-\\phi\\Bigr) e^{\\frac25 \\pi}} =\n",
    "1+\\frac{e^{-2\\pi}} {1+\\frac{e^{-4\\pi}} {1+\\frac{e^{-6\\pi}}\n",
    "{1+\\frac{e^{-8\\pi}} {1+\\ldots} } } } \n",
    "\\end{equation*}\n",
    "```\n",
    "### Display\n",
    "$\\begin{equation*}\n",
    "\\frac{1}{\\Bigl(\\sqrt{\\phi \\sqrt{5}}-\\phi\\Bigr) e^{\\frac25 \\pi}} =\n",
    "1+\\frac{e^{-2\\pi}} {1+\\frac{e^{-4\\pi}} {1+\\frac{e^{-6\\pi}}\n",
    "{1+\\frac{e^{-8\\pi}} {1+\\ldots} } } } \n",
    "\\end{equation*}$"
   ]
  },
  {
   "cell_type": "markdown",
   "metadata": {},
   "source": [
    "## A Rogers-Ramanujan Identity\n",
    "### Source\n",
    "```\n",
    "\\begin{equation*}\n",
    "1 +  \\frac{q^2}{(1-q)}+\\frac{q^6}{(1-q)(1-q^2)}+\\cdots =\n",
    "\\prod_{j=0}^{\\infty}\\frac{1}{(1-q^{5j+2})(1-q^{5j+3})},\n",
    "\\quad\\quad \\text{for $|q|<1$}. \n",
    "\\end{equation*}\n",
    "```\n",
    "### Display\n",
    "\n",
    "$$\\begin{equation*}\n",
    "1 + \\frac{q^2}{(1-q)}+\\frac{q^6}{(1-q)(1-q^2)}+\\cdots =\n",
    "\\prod_{j=0}^{\\infty}\\frac{1}{(1-q^{5j+2})(1-q^{5j+3})},\n",
    "\\quad\\quad \\text{for $|q|<1$}. \n",
    "\\end{equation*}$$"
   ]
  },
  {
   "cell_type": "markdown",
   "metadata": {},
   "source": [
    "## Maxwell's Equations\n",
    "### Source\n",
    "```\n",
    "\\begin{align}\n",
    "\\nabla \\times \\vec{\\mathbf{B}} -\\, \\frac1c\\, \\frac{\\partial\\vec{\\mathbf{E}}}{\\partial t} & = \\frac{4\\pi}{c}\\vec{\\mathbf{j}} \\\\   \\nabla \\cdot \\vec{\\mathbf{E}} & = 4 \\pi \\rho \\\\\n",
    "\\nabla \\times \\vec{\\mathbf{E}}\\, +\\, \\frac1c\\, \\frac{\\partial\\vec{\\mathbf{B}}}{\\partial t} & = \\vec{\\mathbf{0}} \\\\\n",
    "\\nabla \\cdot \\vec{\\mathbf{B}} & = 0 \n",
    "\\end{align}\n",
    "```\n",
    "### Display\n",
    "\n",
    "$\\begin{align}\n",
    "\\nabla \\times \\vec{\\mathbf{B}} -\\, \\frac1c\\, \\frac{\\partial\\vec{\\mathbf{E}}}{\\partial t} & = \\frac{4\\pi}{c}\\vec{\\mathbf{j}} \\\\   \\nabla \\cdot \\vec{\\mathbf{E}} & = 4 \\pi \\rho \\\\\n",
    "\\nabla \\times \\vec{\\mathbf{E}}\\, +\\, \\frac1c\\, \\frac{\\partial\\vec{\\mathbf{B}}}{\\partial t} & = \\vec{\\mathbf{0}} \\\\\n",
    "\\nabla \\cdot \\vec{\\mathbf{B}} & = 0 \n",
    "\\end{align}$"
   ]
  },
  {
   "cell_type": "markdown",
   "metadata": {},
   "source": [
    "## Equation Numbering and References\n",
    "\n",
    "Equation numbering and referencing will be available in a future version of the Jupyter notebook."
   ]
  },
  {
   "cell_type": "markdown",
   "metadata": {},
   "source": [
    "## Inline Typesetting (Mixing Markdown and TeX)\n",
    "\n",
    "While display equations look good for a page of samples, the ability to mix math and *formatted* **text** in a paragraph is also important.\n",
    "\n",
    "### Source\n",
    "```\n",
    "This expression $\\sqrt{3x-1}+(1+x)^2$ is an example of a TeX inline equation in a [Markdown-formatted](https://daringfireball.net/projects/markdown/) sentence.  \n",
    "```\n",
    "\n",
    "### Display\n",
    "This expression $\\sqrt{3x-1}+(1+x)^2$ is an example of a TeX inline equation in a [Markdown-formatted](https://daringfireball.net/projects/markdown/) sentence.  "
   ]
  },
  {
   "cell_type": "markdown",
   "metadata": {},
   "source": [
    "## Other Syntax\n",
    "\n",
    "You will notice in other places on the web that `$$` are needed explicitly to begin and end MathJax typesetting.  This is **not** required if you will be using TeX environments, but the Jupyter notebook will accept this syntax on legacy notebooks.  \n",
    "\n",
    "## Source\n",
    "\n",
    "```\n",
    "$$\n",
    "\\begin{array}{c}\n",
    "y_1 \\\\\\\n",
    "y_2 \\mathtt{t}_i \\\\\\\n",
    "z_{3,4}\n",
    "\\end{array}\n",
    "$$\n",
    "```\n",
    "\n",
    "```\n",
    "$$\n",
    "\\begin{array}{c}\n",
    "y_1 \\cr\n",
    "y_2 \\mathtt{t}_i \\cr\n",
    "y_{3}\n",
    "\\end{array}\n",
    "$$\n",
    "```\n",
    "\n",
    "```\n",
    "$$\\begin{eqnarray} \n",
    "x' &=& &x \\sin\\phi &+& z \\cos\\phi \\\\\n",
    "z' &=& - &x \\cos\\phi &+& z \\sin\\phi \\\\\n",
    "\\end{eqnarray}$$\n",
    "```\n",
    "\n",
    "```\n",
    "$$\n",
    "x=4\n",
    "$$\n",
    "```\n",
    "\n",
    "## Display\n",
    "\n",
    "$$\n",
    "\\begin{array}{c}\n",
    "y_1 \\\\\\\n",
    "y_2 \\mathtt{t}_i \\\\\\\n",
    "z_{3,4}\n",
    "\\end{array}\n",
    "$$\n",
    "\n",
    "$$\n",
    "\\begin{array}{c}\n",
    "y_1 \\cr\n",
    "y_2 \\mathtt{t}_i \\cr\n",
    "y_{3}\n",
    "\\end{array}\n",
    "$$\n",
    "\n",
    "$$\\begin{eqnarray} \n",
    "x' &=& &x \\sin\\phi &+& z \\cos\\phi \\\\\n",
    "z' &=& - &x \\cos\\phi &+& z \\sin\\phi \\\\\n",
    "\\end{eqnarray}$$\n",
    "\n",
    "$$\n",
    "x=4\n",
    "$$"
   ]
  },
  {
   "cell_type": "code",
   "execution_count": null,
   "metadata": {},
   "outputs": [],
   "source": []
  }
 ],
 "metadata": {
  "kernelspec": {
   "display_name": "Python 3 (ipykernel)",
   "language": "python",
   "name": "python3"
  },
  "language_info": {
   "codemirror_mode": {
    "name": "ipython",
    "version": 3
   },
   "file_extension": ".py",
   "mimetype": "text/x-python",
   "name": "python",
   "nbconvert_exporter": "python",
   "pygments_lexer": "ipython3",
   "version": "3.10.9"
  }
 },
 "nbformat": 4,
 "nbformat_minor": 1
}
